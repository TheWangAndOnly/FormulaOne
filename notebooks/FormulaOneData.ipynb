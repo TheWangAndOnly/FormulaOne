{
 "cells": [
  {
   "cell_type": "markdown",
   "id": "d6a31b60",
   "metadata": {},
   "source": [
    "# Exploring Formula 1 Data "
   ]
  },
  {
   "cell_type": "markdown",
   "id": "58ec16e6",
   "metadata": {},
   "source": [
    "New fastf1 update. Need to review documentation."
   ]
  },
  {
   "cell_type": "markdown",
   "id": "2aa9e9c5",
   "metadata": {},
   "source": [
    "I want to try and see what type of compound was the fastest for the Bahrain 2022 GP"
   ]
  },
  {
   "cell_type": "code",
   "execution_count": 1,
   "id": "cd66a21d",
   "metadata": {},
   "outputs": [],
   "source": [
    "import fastf1 as ff1\n",
    "from fastf1 import plotting\n",
    "from matplotlib import pyplot as plt\n",
    "from matplotlib.pyplot import figure\n",
    "from matplotlib.collections import LineCollection\n",
    "from matplotlib import cm\n",
    "import numpy as np\n",
    "import pandas as pd\n",
    "\n",
    "# Setup plotting\n",
    "plotting.setup_mpl()\n",
    "\n",
    "# Enable the cache\n",
    "ff1.Cache.enable_cache('../cache') \n",
    "\n",
    "# Get rid of some pandas warnings that are not relevant for us at the moment\n",
    "pd.options.mode.chained_assignment = None"
   ]
  },
  {
   "cell_type": "code",
   "execution_count": 2,
   "id": "65b432ac",
   "metadata": {},
   "outputs": [
    {
     "name": "stderr",
     "output_type": "stream",
     "text": [
      "/Users/weiyiwang/.pyenv/versions/3.8.6/envs/lewagon/lib/python3.8/site-packages/fastf1/core.py:1093: FutureWarning: `Session.load_laps` is deprecated and will beremoved in a future version.\n",
      "Use `Session.load` instead.\n",
      "  warnings.warn(\"`Session.load_laps` is deprecated and will be\"\n",
      "core           INFO \tLoading data for Bahrain Grand Prix - Race [v2.2.2]\n",
      "api            INFO \tUsing cached data for driver_info\n",
      "api            INFO \tUsing cached data for timing_data\n",
      "api            INFO \tUsing cached data for timing_app_data\n",
      "core           INFO \tProcessing timing data...\n",
      "api            INFO \tUsing cached data for session_status_data\n",
      "api            INFO \tUsing cached data for track_status_data\n",
      "api            INFO \tUsing cached data for car_data\n",
      "api            INFO \tUsing cached data for position_data\n",
      "api            INFO \tUsing cached data for weather_data\n",
      "core           INFO \tFinished loading data for 20 drivers: ['16', '55', '44', '63', '20', '77', '31', '22', '14', '24', '47', '18', '23', '3', '4', '6', '27', '11', '1', '10']\n"
     ]
    }
   ],
   "source": [
    "race = ff1.get_session(2022, 'Bahrain', 'R')\n",
    "laps = race.load_laps(with_telemetry=True)"
   ]
  },
  {
   "cell_type": "code",
   "execution_count": 4,
   "id": "e3442669",
   "metadata": {},
   "outputs": [],
   "source": [
    "laps['RaceLapNumber'] = laps['LapNumber'] - 1"
   ]
  },
  {
   "cell_type": "code",
   "execution_count": 7,
   "id": "7c37036f",
   "metadata": {},
   "outputs": [],
   "source": [
    "# ham = race.laps.pick_driver('HAM')\n",
    "# ham"
   ]
  },
  {
   "cell_type": "code",
   "execution_count": 19,
   "id": "9aa1cf03",
   "metadata": {},
   "outputs": [
    {
     "name": "stdout",
     "output_type": "stream",
     "text": [
      "Time\n",
      "DriverNumber\n",
      "LapTime\n",
      "LapNumber\n",
      "Stint\n",
      "PitOutTime\n",
      "PitInTime\n",
      "Sector1Time\n",
      "Sector2Time\n",
      "Sector3Time\n",
      "Sector1SessionTime\n",
      "Sector2SessionTime\n",
      "Sector3SessionTime\n",
      "SpeedI1\n",
      "SpeedI2\n",
      "SpeedFL\n",
      "SpeedST\n",
      "IsPersonalBest\n",
      "Compound\n",
      "TyreLife\n",
      "FreshTyre\n",
      "LapStartTime\n",
      "Team\n",
      "Driver\n",
      "TrackStatus\n",
      "IsAccurate\n",
      "LapStartDate\n",
      "RaceLapNumber\n"
     ]
    }
   ],
   "source": [
    "for lap in laps.pick_driver('HAM'):\n",
    "    \n",
    "    print(lap)"
   ]
  },
  {
   "cell_type": "code",
   "execution_count": null,
   "id": "40c9fb5f",
   "metadata": {},
   "outputs": [],
   "source": []
  },
  {
   "cell_type": "code",
   "execution_count": null,
   "id": "3ca0f4af",
   "metadata": {},
   "outputs": [],
   "source": []
  },
  {
   "cell_type": "code",
   "execution_count": null,
   "id": "3b8ad2af",
   "metadata": {},
   "outputs": [],
   "source": []
  },
  {
   "cell_type": "code",
   "execution_count": null,
   "id": "0aa413e4",
   "metadata": {},
   "outputs": [],
   "source": []
  }
 ],
 "metadata": {
  "kernelspec": {
   "display_name": "Python 3",
   "language": "python",
   "name": "python3"
  },
  "language_info": {
   "codemirror_mode": {
    "name": "ipython",
    "version": 3
   },
   "file_extension": ".py",
   "mimetype": "text/x-python",
   "name": "python",
   "nbconvert_exporter": "python",
   "pygments_lexer": "ipython3",
   "version": "3.8.6"
  },
  "toc": {
   "base_numbering": 1,
   "nav_menu": {},
   "number_sections": true,
   "sideBar": true,
   "skip_h1_title": false,
   "title_cell": "Table of Contents",
   "title_sidebar": "Contents",
   "toc_cell": false,
   "toc_position": {},
   "toc_section_display": true,
   "toc_window_display": false
  }
 },
 "nbformat": 4,
 "nbformat_minor": 5
}
